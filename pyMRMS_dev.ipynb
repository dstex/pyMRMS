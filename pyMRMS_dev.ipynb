{
 "cells": [
  {
   "cell_type": "code",
   "execution_count": 2,
   "metadata": {
    "ExecuteTime": {
     "end_time": "2018-11-02T18:51:50.350242Z",
     "start_time": "2018-11-02T18:51:50.343152Z"
    }
   },
   "outputs": [],
   "source": [
    "# import matplotlib as mpl\n",
    "from matplotlib import pyplot as plt\n",
    "# from pyart import graph as pag\n",
    "# import numpy as np\n",
    "# from glob import glob\n",
    "from datetime import datetime as dt\n",
    "# import os\n",
    "from tqdm import tqdm\n",
    "# import sys\n",
    "# import xarray as xr\n",
    "# import cartopy.crs as ccrs\n",
    "# import cartopy.feature as cf\n",
    "# from pyproj import Proj as Proj\n",
    "# from cartopy.mpl.gridliner import LONGITUDE_FORMATTER, LATITUDE_FORMATTER\n",
    "\n",
    "from pyMRMS import retrieveMRMS,readFL,annotate,graph\n",
    "\n",
    "plt.ioff()\n",
    "# %matplotlib inline"
   ]
  },
  {
   "cell_type": "code",
   "execution_count": 8,
   "metadata": {
    "ExecuteTime": {
     "end_time": "2018-11-02T18:57:26.627481Z",
     "start_time": "2018-11-02T18:56:57.712350Z"
    }
   },
   "outputs": [],
   "source": [
    "projID = 'VSE'\n",
    "\n",
    "getMRMS = False\n",
    "strtMRMS='20170430-180000'\n",
    "endMRMS='20170430-200000'\n",
    "mrmsSaveDir='/Users/danstechman/Desktop/MRMS/'\n",
    "\n",
    "pltFT = False\n",
    "flFile = '/Users/danstechman/GoogleDrive/VSE-Data/flightLevel/20170430H1_AC.nc'\n",
    "strtFL = strtMRMS\n",
    "endFL = endMRMS\n",
    "\n",
    "minLat = 33.5\n",
    "minLon = -89\n",
    "maxLat = 39.5\n",
    "maxLon = -84\n",
    "\n",
    "\n",
    "\n",
    "if getMRMS:\n",
    "    retrieveMRMS.fetch(strtMRMS,endMRMS,mrmsSaveDir)\n",
    "\n",
    "if pltFT:\n",
    "    flData = readFL.getP3(flFile,strtDT=strtFL,endDT=endFL)\n",
    "\n",
    "mData = retrieveMRMS.extract('/Users/danstechman/Desktop/MRMS/',strtDT=strtMRMS,endDT=endMRMS,llCrds=(minLat,minLon),urCrds=(maxLat,maxLon))"
   ]
  },
  {
   "cell_type": "code",
   "execution_count": 9,
   "metadata": {
    "ExecuteTime": {
     "end_time": "2018-11-02T18:58:58.537541Z",
     "start_time": "2018-11-02T18:57:26.633253Z"
    },
    "scrolled": false
   },
   "outputs": [
    {
     "name": "stderr",
     "output_type": "stream",
     "text": [
      "100%|██████████| 61/61 [01:31<00:00,  1.51s/it]\n"
     ]
    }
   ],
   "source": [
    "for t in tqdm(range(len(mData['mDT'])),dynamic_ncols=True):\n",
    "    # print('Now plotting {}... {}/{}'.format(dt.strftime(dt.utcfromtimestamp(int((mData['mDT'][t].astype(dt))*1e-9)),'%Y%m%d-%H%M'),t+1,len(mData['mDT'])))\n",
    "    fig,ax,grd,proj = graph.plotSHSR(mData['mLon'],mData['mLat'],mData['mSHSR'][t],mData['mDT'][t],projID='VSE',savePath=mrmsSaveDir)\n",
    "    plt.close(fig)"
   ]
  }
 ],
 "metadata": {
  "kernelspec": {
   "display_name": "Python 3",
   "language": "python",
   "name": "python3"
  },
  "language_info": {
   "codemirror_mode": {
    "name": "ipython",
    "version": 3
   },
   "file_extension": ".py",
   "mimetype": "text/x-python",
   "name": "python",
   "nbconvert_exporter": "python",
   "pygments_lexer": "ipython3",
   "version": "3.5.5"
  },
  "varInspector": {
   "cols": {
    "lenName": 16,
    "lenType": 16,
    "lenVar": 40
   },
   "kernels_config": {
    "python": {
     "delete_cmd_postfix": "",
     "delete_cmd_prefix": "del ",
     "library": "var_list.py",
     "varRefreshCmd": "print(var_dic_list())"
    },
    "r": {
     "delete_cmd_postfix": ") ",
     "delete_cmd_prefix": "rm(",
     "library": "var_list.r",
     "varRefreshCmd": "cat(var_dic_list()) "
    }
   },
   "types_to_exclude": [
    "module",
    "function",
    "builtin_function_or_method",
    "instance",
    "_Feature"
   ],
   "window_display": false
  }
 },
 "nbformat": 4,
 "nbformat_minor": 2
}
