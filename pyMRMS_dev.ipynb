{
 "cells": [
  {
   "cell_type": "code",
   "execution_count": 1,
   "metadata": {
    "ExecuteTime": {
     "end_time": "2018-12-13T18:06:24.671133Z",
     "start_time": "2018-12-13T18:06:20.720702Z"
    }
   },
   "outputs": [],
   "source": [
    "# import matplotlib as mpl\n",
    "from matplotlib import pyplot as plt\n",
    "# from pyart import graph as pag\n",
    "# import numpy as np\n",
    "# from glob import glob\n",
    "from datetime import datetime as dt\n",
    "# import os\n",
    "from tqdm import tqdm\n",
    "import numpy as np\n",
    "import math\n",
    "# import sys\n",
    "# import xarray as xr\n",
    "# import cartopy.crs as ccrs\n",
    "# import cartopy.feature as cf\n",
    "# from pyproj import Proj as Proj\n",
    "# from cartopy.mpl.gridliner import LONGITUDE_FORMATTER, LATITUDE_FORMATTER\n",
    "\n",
    "from pyMRMS import retrieveMRMS,readFL,annotate,graph\n",
    "\n",
    "plt.ioff()\n",
    "# %matplotlib inline"
   ]
  },
  {
   "cell_type": "code",
   "execution_count": 4,
   "metadata": {
    "ExecuteTime": {
     "end_time": "2018-12-13T18:26:21.092595Z",
     "start_time": "2018-12-13T18:24:40.343700Z"
    }
   },
   "outputs": [],
   "source": [
    "projID = 'VSE'\n",
    "\n",
    "getMRMS = False\n",
    "strtMRMS='20170430-181600'\n",
    "# strtMRMS='20170430-193600'\n",
    "# endMRMS='20170430-193800'\n",
    "endMRMS='20170430-234600'\n",
    "mrmsSaveDir='/Users/danstechman/Desktop/MRMS/'\n",
    "mrmsPlotDir='/Users/danstechman/Desktop/MRMS/plots_noRings'\n",
    "\n",
    "pltFT = True\n",
    "flFile = '/Users/danstechman/GoogleDrive/VSE-Data/flightLevel/20170430H1_AC.nc'\n",
    "strtFL = strtMRMS\n",
    "endFL = endMRMS\n",
    "\n",
    "plotRng = False\n",
    "\n",
    "minLat = 33.5\n",
    "minLon = -89\n",
    "maxLat = 37.5\n",
    "maxLon = -84\n",
    "# minLat = 33.9\n",
    "# minLon = -87.3\n",
    "# maxLat = 35.7\n",
    "# maxLon = -85.3\n",
    "\n",
    "\n",
    "\n",
    "if getMRMS:\n",
    "    retrieveMRMS.fetch(strtMRMS,endMRMS,mrmsSaveDir)\n",
    "\n",
    "if pltFT:\n",
    "    flData = readFL.getP3(flFile,endDT=endFL)\n",
    "\n",
    "mData = retrieveMRMS.extract('/Users/danstechman/Desktop/MRMS/',strtDT=strtMRMS,endDT=endMRMS,llCrds=(minLat,minLon),urCrds=(maxLat,maxLon))"
   ]
  },
  {
   "cell_type": "code",
   "execution_count": 5,
   "metadata": {
    "ExecuteTime": {
     "end_time": "2018-12-13T18:36:32.382096Z",
     "start_time": "2018-12-13T18:26:21.103037Z"
    },
    "scrolled": false
   },
   "outputs": [
    {
     "name": "stderr",
     "output_type": "stream",
     "text": [
      "100%|██████████| 166/166 [10:11<00:00,  3.55s/it]\n"
     ]
    }
   ],
   "source": [
    "mLon = mData['mLon']\n",
    "mLat = mData['mLat']\n",
    "mSHSR = mData['mSHSR']\n",
    "mDT = mData['mDT']\n",
    "flLon = flData['flLon']\n",
    "flLat = flData['flLat']\n",
    "flHdng = flData['flHdng']\n",
    "flDT = flData['flDT']\n",
    "graph.plotSHSR(mLon,mLat,mSHSR,mDT,plotFltTrk=pltFT,flLon=flLon,flLat=flLat,flDT=flDT,flHdng=flHdng,fadeFltTrk='fade',\n",
    "               projID='VSE',fType='png',saveDir=mrmsPlotDir,figsize=(16,14),plotRng=plotRng)"
   ]
  }
 ],
 "metadata": {
  "kernelspec": {
   "display_name": "Python 3",
   "language": "python",
   "name": "python3"
  },
  "language_info": {
   "codemirror_mode": {
    "name": "ipython",
    "version": 3
   },
   "file_extension": ".py",
   "mimetype": "text/x-python",
   "name": "python",
   "nbconvert_exporter": "python",
   "pygments_lexer": "ipython3",
   "version": "3.5.5"
  },
  "varInspector": {
   "cols": {
    "lenName": 16,
    "lenType": 16,
    "lenVar": 40
   },
   "kernels_config": {
    "python": {
     "delete_cmd_postfix": "",
     "delete_cmd_prefix": "del ",
     "library": "var_list.py",
     "varRefreshCmd": "print(var_dic_list())"
    },
    "r": {
     "delete_cmd_postfix": ") ",
     "delete_cmd_prefix": "rm(",
     "library": "var_list.r",
     "varRefreshCmd": "cat(var_dic_list()) "
    }
   },
   "types_to_exclude": [
    "module",
    "function",
    "builtin_function_or_method",
    "instance",
    "_Feature"
   ],
   "window_display": false
  }
 },
 "nbformat": 4,
 "nbformat_minor": 2
}
