{
 "cells": [
  {
   "cell_type": "code",
   "execution_count": 1,
   "metadata": {
    "ExecuteTime": {
     "end_time": "2018-12-14T20:52:25.319470Z",
     "start_time": "2018-12-14T20:52:21.567185Z"
    }
   },
   "outputs": [],
   "source": [
    "from pyMRMS import retrieveMRMS,readFL,annotate,graph"
   ]
  },
  {
   "cell_type": "code",
   "execution_count": 2,
   "metadata": {
    "ExecuteTime": {
     "end_time": "2018-12-14T20:52:27.770649Z",
     "start_time": "2018-12-14T20:52:27.674325Z"
    }
   },
   "outputs": [],
   "source": [
    "w88Ds = annotate.readYaml('./w88Ds.yml')"
   ]
  },
  {
   "cell_type": "code",
   "execution_count": null,
   "metadata": {
    "ExecuteTime": {
     "end_time": "2018-12-14T17:29:02.151586Z",
     "start_time": "2018-12-14T17:27:31.128424Z"
    }
   },
   "outputs": [],
   "source": [
    "projID = 'VSE'\n",
    "\n",
    "getMRMS = False\n",
    "\n",
    "strtMRMS='20170430-181600'\n",
    "endMRMS='20170430-234600'\n",
    "# strtMRMS='20170430-193600'\n",
    "# endMRMS='20170430-193800'\n",
    "\n",
    "mrmsSaveDir='/Users/danstechman/Desktop/MRMS/'\n",
    "mrmsPlotDir='/Users/danstechman/Desktop/MRMS/plots_rings'\n",
    "\n",
    "pltFT = True\n",
    "flFile = '/Users/danstechman/GoogleDrive/VSE-Data/flightLevel/20170430H1_AC.nc'\n",
    "strtFL = strtMRMS\n",
    "endFL = endMRMS\n",
    "\n",
    "plotAsts = True\n",
    "astsPrmsF = '/Users/danstechman/PersonalGoogleDrive/Code/radar/pyMRMS/assets_template.yml'\n",
    "plotRng = True\n",
    "\n",
    "minLat = 33.5\n",
    "minLon = -89\n",
    "maxLat = 37.5\n",
    "maxLon = -84\n",
    "# minLat = 33.9\n",
    "# minLon = -87.3\n",
    "# maxLat = 35.7\n",
    "# maxLon = -85.3\n",
    "\n",
    "\n",
    "\n",
    "if getMRMS:\n",
    "    retrieveMRMS.fetch(strtMRMS,endMRMS,mrmsSaveDir)\n",
    "\n",
    "if pltFT:\n",
    "    flData = readFL.getP3(flFile,endDT=endFL)\n",
    "\n",
    "mData = retrieveMRMS.extract('/Users/danstechman/Desktop/MRMS/',strtDT=strtMRMS,endDT=endMRMS,llCrds=(minLat,minLon),urCrds=(maxLat,maxLon))"
   ]
  },
  {
   "cell_type": "code",
   "execution_count": null,
   "metadata": {
    "ExecuteTime": {
     "end_time": "2018-12-14T17:40:40.301722Z",
     "start_time": "2018-12-14T17:29:02.158214Z"
    },
    "scrolled": false
   },
   "outputs": [],
   "source": [
    "graph.plotSHSR(mData['mLon'],mData['mLat'],mData['mSHSR'],mData['mDT'],\n",
    "               plotAsts=plotAsts,prmsFile=astsPrmsF,plotRng=plotRng,\n",
    "               plotFltTrk=pltFT,flLon=flData['flLon'],flLat=flData['flLat'],flDT=flData['flDT'],flHdng=flData['flHdng'],fadeFltTrk='fade',\n",
    "               projID='VSE',fType='png',saveDir=mrmsPlotDir,figsize=(16,14))"
   ]
  }
 ],
 "metadata": {
  "kernelspec": {
   "display_name": "Python 3",
   "language": "python",
   "name": "python3"
  },
  "language_info": {
   "codemirror_mode": {
    "name": "ipython",
    "version": 3
   },
   "file_extension": ".py",
   "mimetype": "text/x-python",
   "name": "python",
   "nbconvert_exporter": "python",
   "pygments_lexer": "ipython3",
   "version": "3.5.5"
  },
  "varInspector": {
   "cols": {
    "lenName": 16,
    "lenType": 16,
    "lenVar": 40
   },
   "kernels_config": {
    "python": {
     "delete_cmd_postfix": "",
     "delete_cmd_prefix": "del ",
     "library": "var_list.py",
     "varRefreshCmd": "print(var_dic_list())"
    },
    "r": {
     "delete_cmd_postfix": ") ",
     "delete_cmd_prefix": "rm(",
     "library": "var_list.r",
     "varRefreshCmd": "cat(var_dic_list()) "
    }
   },
   "types_to_exclude": [
    "module",
    "function",
    "builtin_function_or_method",
    "instance",
    "_Feature"
   ],
   "window_display": false
  }
 },
 "nbformat": 4,
 "nbformat_minor": 2
}
