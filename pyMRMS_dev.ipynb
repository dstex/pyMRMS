{
 "cells": [
  {
   "cell_type": "code",
   "execution_count": 1,
   "metadata": {
    "ExecuteTime": {
     "end_time": "2018-10-29T18:01:13.513547Z",
     "start_time": "2018-10-29T18:01:11.359664Z"
    }
   },
   "outputs": [],
   "source": [
    "import matplotlib as mpl\n",
    "from matplotlib import pyplot as plt\n",
    "import pyart\n",
    "import numpy as np\n",
    "from glob import glob\n",
    "from datetime import datetime as dt\n",
    "import os\n",
    "import sys\n",
    "import xarray as xr\n",
    "import cartopy.crs as ccrs\n",
    "import cartopy.feature as cf\n",
    "from pyproj import Proj as Proj\n",
    "\n",
    "from pyMRMS import retrieveMRMS,readFL,annotate\n",
    "\n",
    "%matplotlib inline"
   ]
  },
  {
   "cell_type": "code",
   "execution_count": 2,
   "metadata": {
    "ExecuteTime": {
     "end_time": "2018-10-29T18:01:13.519632Z",
     "start_time": "2018-10-29T18:01:13.515599Z"
    }
   },
   "outputs": [],
   "source": [
    "getMRMS = False\n",
    "strtMRMS='20170430-180000'\n",
    "endMRMS='20170430-200000'\n",
    "mrmsSaveDir='/Users/danstechman/Desktop/MRMS/'\n",
    "\n",
    "pltFT = True\n",
    "flFile = '/Users/danstechman/GoogleDrive/VSE-Data/flightLevel/20170430H1_AC.nc'\n",
    "strtFL = strtMRMS\n",
    "endFL = endMRMS\n",
    "\n",
    "zoom = False"
   ]
  },
  {
   "cell_type": "code",
   "execution_count": 3,
   "metadata": {
    "ExecuteTime": {
     "end_time": "2018-10-29T18:01:36.494807Z",
     "start_time": "2018-10-29T18:01:13.522024Z"
    }
   },
   "outputs": [],
   "source": [
    "mData = retrieveMRMS.extract('/Users/danstechman/Desktop/MRMS/',strtDT=strtMRMS,endDT=endMRMS,llCrds=(31,-92),urCrds=(35,-82))"
   ]
  },
  {
   "cell_type": "code",
   "execution_count": null,
   "metadata": {
    "ExecuteTime": {
     "end_time": "2018-10-22T16:22:37.410855Z",
     "start_time": "2018-10-22T16:22:23.239640Z"
    },
    "code_folding": []
   },
   "outputs": [],
   "source": [
    "if getMRMS:\n",
    "    retrieveMRMS.fetch(strtMRMS,endMRMS,mrmsSaveDir)"
   ]
  },
  {
   "cell_type": "code",
   "execution_count": null,
   "metadata": {
    "ExecuteTime": {
     "end_time": "2018-10-22T16:22:37.411906Z",
     "start_time": "2018-10-22T16:22:20.704Z"
    }
   },
   "outputs": [],
   "source": [
    "if pltFT:\n",
    "    flData = readFL.getP3(flFile,strtDT=strtFL,endDT=endFL)"
   ]
  },
  {
   "cell_type": "code",
   "execution_count": null,
   "metadata": {},
   "outputs": [],
   "source": [
    "vMin = -4 # Max and min values to plot\n",
    "vMax = 60\n",
    "cmap = pyart.graph.cm_colorblind.HomeyerRainbow\n",
    "bounds = np.linspace(cMin,cMax,(np.abs(cMin)+np.abs(cMax)+1))\n",
    "norm = mpl.colors.BoundaryNorm(bounds, cmap.N)\n",
    "# norm = None\n",
    "cbarStr = 'Reflectivity (dBZ)'\n",
    "\n",
    "if zoom:\n",
    "#     minLon = mapBnds[0]\n",
    "#     maxLon = mapBnds[1]\n",
    "#     minLat = mapBnds[2]\n",
    "#     maxLat = mapBnds[3]\n",
    "else:\n",
    "    minLon = np.min(lon)\n",
    "    maxLon = np.max(lon)\n",
    "    minLat = np.min(lat)\n",
    "    maxLat = np.max(lat)\n",
    "\n",
    "proj = ccrs.PlateCarree()\n",
    "\n",
    "states_provinces = cf.NaturalEarthFeature(\n",
    "        category='cultural',name='admin_1_states_provinces_lines',\n",
    "        scale='50m',facecolor='none')\n",
    "\n",
    "fig = plt.figure(figsize=[13,10])\n",
    "ax = fig.add_subplot(111)\n",
    "\n",
    "contF = plt.pcolormesh(xsX,alt1d,xsPltVar,cmap=cmap,norm=norm,vmin=vmin,vmax=vmax)"
   ]
  }
 ],
 "metadata": {
  "kernelspec": {
   "display_name": "Python 3",
   "language": "python",
   "name": "python3"
  },
  "language_info": {
   "codemirror_mode": {
    "name": "ipython",
    "version": 3
   },
   "file_extension": ".py",
   "mimetype": "text/x-python",
   "name": "python",
   "nbconvert_exporter": "python",
   "pygments_lexer": "ipython3",
   "version": "3.5.5"
  },
  "varInspector": {
   "cols": {
    "lenName": 16,
    "lenType": 16,
    "lenVar": 40
   },
   "kernels_config": {
    "python": {
     "delete_cmd_postfix": "",
     "delete_cmd_prefix": "del ",
     "library": "var_list.py",
     "varRefreshCmd": "print(var_dic_list())"
    },
    "r": {
     "delete_cmd_postfix": ") ",
     "delete_cmd_prefix": "rm(",
     "library": "var_list.r",
     "varRefreshCmd": "cat(var_dic_list()) "
    }
   },
   "types_to_exclude": [
    "module",
    "function",
    "builtin_function_or_method",
    "instance",
    "_Feature"
   ],
   "window_display": false
  }
 },
 "nbformat": 4,
 "nbformat_minor": 2
}
