{
 "cells": [
  {
   "cell_type": "code",
   "execution_count": 1,
   "metadata": {
    "ExecuteTime": {
     "end_time": "2019-07-15T17:56:19.434653Z",
     "start_time": "2019-07-15T17:56:16.923020Z"
    },
    "scrolled": true
   },
   "outputs": [
    {
     "name": "stderr",
     "output_type": "stream",
     "text": [
      "/Users/danstechman/anaconda3/envs/py37/lib/python3.7/site-packages/pyart/graph/cm.py:104: FutureWarning: elementwise comparison failed; returning scalar instead, but in the future will perform elementwise comparison\n",
      "  if 'red' in spec:\n",
      "/Users/danstechman/anaconda3/envs/py37/lib/python3.7/site-packages/pyart/graph/cm_colorblind.py:32: FutureWarning: elementwise comparison failed; returning scalar instead, but in the future will perform elementwise comparison\n",
      "  if 'red' in spec:\n"
     ]
    }
   ],
   "source": [
    "from pyMRMS import retrieveMRMS,readFL,annotate,graph"
   ]
  },
  {
   "cell_type": "code",
   "execution_count": 2,
   "metadata": {
    "ExecuteTime": {
     "end_time": "2019-07-15T17:56:19.442461Z",
     "start_time": "2019-07-15T17:56:19.437334Z"
    }
   },
   "outputs": [],
   "source": [
    "projID = 'PECAN'\n",
    "\n",
    "tdrRng = 71379.16\n",
    "\n",
    "getMRMS = False\n",
    "plotMRMS = True\n",
    "\n",
    "plotAsts = False\n",
    "plotRng = False\n",
    "pltFT = True"
   ]
  },
  {
   "cell_type": "code",
   "execution_count": 3,
   "metadata": {
    "ExecuteTime": {
     "end_time": "2019-07-15T17:56:19.453477Z",
     "start_time": "2019-07-15T17:56:19.446070Z"
    }
   },
   "outputs": [],
   "source": [
    "# strtMRMS='20170430-181600'\n",
    "# endMRMS='20170430-234600'\n",
    "# strtMRMS='20170430-170000'\n",
    "# endMRMS='20170501-033000'\n",
    "# mrmsSaveDir='/Users/danstechman/GoogleDrive/VSE-Data/MRMS/20170430'\n",
    "# mrmsPlotDir='/Users/danstechman/GoogleDrive/VSE-Data/MRMS/20170430/plots_rings'\n",
    "# flFile = '/Users/danstechman/GoogleDrive/VSE-Data/flightLevel/20170430H1_AC.nc'\n",
    "# astsPrmsF = '/Users/danstechman/PersonalGoogleDrive/Code/radar/pyMRMS/assets_template.yml'\n",
    "# minLat = 33.9\n",
    "# minLon = -87.3\n",
    "# maxLat = 35.7\n",
    "# maxLon = -85.3\n",
    "# minLat = 33.5\n",
    "# minLon = -89\n",
    "# maxLat = 37.5\n",
    "# maxLon = -84\n",
    "\n",
    "\n",
    "# strtMRMS='20170405-234400'\n",
    "# # strtMRMS='20170405-173000'\n",
    "# endMRMS='20170406-003000'\n",
    "# # endMRMS='20170405-180000'\n",
    "# mrmsSaveDir='/Users/danstechman/GoogleDrive/VSE-Data/MRMS/20170405'\n",
    "# mrmsPlotDir='/Users/danstechman/GoogleDrive/VSE-Data/MRMS/20170405/plots'\n",
    "# flFile = '/Users/danstechman/GoogleDrive/VSE-Data/flightLevel/20170405H1_AC.nc'\n",
    "# minLat = 33.0\n",
    "# minLon = -87\n",
    "# maxLat = 35.5\n",
    "# maxLon = -84.5\n",
    "\n",
    "\n",
    "strtMRMS='20150620-051000'\n",
    "endMRMS='20150620-081000'\n",
    "mrmsSaveDir='/Users/danstechman/OneDrive - University of Oklahoma/Research/PECAN/PECAN-Data/radar-data/20150620/MRMS'\n",
    "mrmsPlotDir='/Users/danstechman/OneDrive - University of Oklahoma/Research/PECAN/PECAN-Data/radar-data/20150620/MRMS/plots'\n",
    "flFile = '/Users/danstechman/OneDrive - University of Oklahoma/Research/PECAN/PECAN-Data/FlightLevelData/20150620I1_AXC.nc'\n",
    "minLat = 42.6215456\n",
    "minLon = -103.693126\n",
    "maxLat = 48.077966\n",
    "maxLon = -95.6268738"
   ]
  },
  {
   "cell_type": "code",
   "execution_count": 4,
   "metadata": {
    "ExecuteTime": {
     "end_time": "2019-07-15T18:02:24.018922Z",
     "start_time": "2019-07-15T17:56:26.103232Z"
    },
    "scrolled": false
   },
   "outputs": [
    {
     "name": "stderr",
     "output_type": "stream",
     "text": [
      "/Users/danstechman/anaconda3/envs/py37/lib/python3.7/site-packages/cartopy/io/__init__.py:260: DownloadWarning: Downloading: http://naciscdn.org/naturalearth/110m/physical/ne_110m_ocean.zip\n",
      "  warnings.warn('Downloading: {}'.format(url), DownloadWarning)\n",
      "/Users/danstechman/anaconda3/envs/py37/lib/python3.7/site-packages/cartopy/io/__init__.py:260: DownloadWarning: Downloading: http://naciscdn.org/naturalearth/110m/physical/ne_110m_coastline.zip\n",
      "  warnings.warn('Downloading: {}'.format(url), DownloadWarning)\n",
      "/Users/danstechman/anaconda3/envs/py37/lib/python3.7/site-packages/cartopy/io/__init__.py:260: DownloadWarning: Downloading: http://naciscdn.org/naturalearth/110m/physical/ne_110m_lakes.zip\n",
      "  warnings.warn('Downloading: {}'.format(url), DownloadWarning)\n",
      "/Users/danstechman/anaconda3/envs/py37/lib/python3.7/site-packages/cartopy/io/__init__.py:260: DownloadWarning: Downloading: http://naciscdn.org/naturalearth/110m/cultural/ne_110m_admin_0_boundary_lines_land.zip\n",
      "  warnings.warn('Downloading: {}'.format(url), DownloadWarning)\n",
      "/Users/danstechman/anaconda3/envs/py37/lib/python3.7/site-packages/cartopy/io/__init__.py:260: DownloadWarning: Downloading: http://naciscdn.org/naturalearth/50m/cultural/ne_50m_admin_1_states_provinces_lines.zip\n",
      "  warnings.warn('Downloading: {}'.format(url), DownloadWarning)\n"
     ]
    }
   ],
   "source": [
    "strtFL = strtMRMS\n",
    "endFL = endMRMS\n",
    "\n",
    "if getMRMS:\n",
    "    retrieveMRMS.fetch(strtMRMS,endMRMS,mrmsSaveDir)\n",
    "\n",
    "\n",
    "\n",
    "if plotMRMS:\n",
    "    if pltFT:\n",
    "        flData = readFL.getP3(flFile)#,endDT=endFL)\n",
    "    mData = retrieveMRMS.extract(mrmsSaveDir,strtDT=strtMRMS,endDT=endMRMS,llCrds=(minLat,minLon),urCrds=(maxLat,maxLon))\n",
    "#     graph.plotSHSR(mData['mLon'],mData['mLat'],mData['mSHSR'],mData['mDT'],\n",
    "#                    plotAsts=plotAsts,prmsFile=astsPrmsF,plotRng=plotRng,\n",
    "#                    plotFltTrk=pltFT,flLon=flData['flLon'],flLat=flData['flLat'],flDT=flData['flDT'],flHdng=flData['flHdng'],fadeFltTrk='fade',\n",
    "#                    projID='VSE',fType='png',saveDir=mrmsPlotDir,figsize=(16,14),progDisp=False)\n",
    "    graph.plotSHSR(mData['mLon'],mData['mLat'],mData['mSHSR'],mData['mDT'],radRange=tdrRng,\n",
    "                   plotAsts=plotAsts,plotRng=plotRng,plotSwpLocs=True,\n",
    "                   plotFltTrk=pltFT,flLon=flData['flLon'],flLat=flData['flLat'],flDT=flData['flDT'],flHdng=flData['flHdng'],\n",
    "                   projID='PECAN',fType='png',saveDir=mrmsPlotDir,figsize=(13,10),progDisp=False)"
   ]
  }
 ],
 "metadata": {
  "kernelspec": {
   "display_name": "Python 3",
   "language": "python",
   "name": "python3"
  },
  "language_info": {
   "codemirror_mode": {
    "name": "ipython",
    "version": 3
   },
   "file_extension": ".py",
   "mimetype": "text/x-python",
   "name": "python",
   "nbconvert_exporter": "python",
   "pygments_lexer": "ipython3",
   "version": "3.7.3"
  },
  "varInspector": {
   "cols": {
    "lenName": 16,
    "lenType": 16,
    "lenVar": 40
   },
   "kernels_config": {
    "python": {
     "delete_cmd_postfix": "",
     "delete_cmd_prefix": "del ",
     "library": "var_list.py",
     "varRefreshCmd": "print(var_dic_list())"
    },
    "r": {
     "delete_cmd_postfix": ") ",
     "delete_cmd_prefix": "rm(",
     "library": "var_list.r",
     "varRefreshCmd": "cat(var_dic_list()) "
    }
   },
   "types_to_exclude": [
    "module",
    "function",
    "builtin_function_or_method",
    "instance",
    "_Feature"
   ],
   "window_display": false
  }
 },
 "nbformat": 4,
 "nbformat_minor": 2
}
