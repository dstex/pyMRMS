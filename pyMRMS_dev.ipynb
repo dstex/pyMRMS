{
 "cells": [
  {
   "cell_type": "code",
   "execution_count": null,
   "metadata": {
    "ExecuteTime": {
     "end_time": "2018-10-22T16:22:23.231628Z",
     "start_time": "2018-10-22T16:22:20.697368Z"
    }
   },
   "outputs": [],
   "source": [
    "import matplotlib as mpl\n",
    "from matplotlib import pyplot as plt\n",
    "import pyart\n",
    "import numpy as np\n",
    "from glob import glob\n",
    "import datetime as dt\n",
    "import os\n",
    "import sys\n",
    "import xarray as xr\n",
    "import cartopy.crs as ccrs\n",
    "import cartopy.feature as cf\n",
    "from pyproj import Proj as Proj\n",
    "\n",
    "from pyMRMS import retrieveMRMS,readFL"
   ]
  },
  {
   "cell_type": "code",
   "execution_count": null,
   "metadata": {
    "ExecuteTime": {
     "end_time": "2018-10-22T16:22:23.237750Z",
     "start_time": "2018-10-22T16:22:23.233955Z"
    }
   },
   "outputs": [],
   "source": [
    "getMRMS = True\n",
    "strtMRMS='20170430-180000'\n",
    "endMRMS='20170430-200000'\n",
    "mrmsSaveDir='/Users/danstechman/Desktop/MRMS/'\n",
    "\n",
    "pltFT = True\n",
    "flFile = '/Users/danstechman/GoogleDrive/VSE-Data/flightLevel/20170430H1_AC.nc'\n",
    "strtFL = strtMRMS\n",
    "endFL = endMRMS\n"
   ]
  },
  {
   "cell_type": "code",
   "execution_count": null,
   "metadata": {
    "ExecuteTime": {
     "end_time": "2018-10-22T16:22:37.410855Z",
     "start_time": "2018-10-22T16:22:23.239640Z"
    },
    "code_folding": []
   },
   "outputs": [],
   "source": [
    "if getMRMS:\n",
    "    retrieveMRMS.fetch(strtMRMS,endMRMS,mrmsSaveDir)"
   ]
  },
  {
   "cell_type": "code",
   "execution_count": null,
   "metadata": {
    "ExecuteTime": {
     "end_time": "2018-10-22T16:22:37.411906Z",
     "start_time": "2018-10-22T16:22:20.704Z"
    }
   },
   "outputs": [],
   "source": [
    "if pltFT:\n",
    "    flData = readFL.getP3(flFile,strtDT=strtFL,endDT=endFL)"
   ]
  }
 ],
 "metadata": {
  "kernelspec": {
   "display_name": "Python 3",
   "language": "python",
   "name": "python3"
  },
  "language_info": {
   "codemirror_mode": {
    "name": "ipython",
    "version": 3
   },
   "file_extension": ".py",
   "mimetype": "text/x-python",
   "name": "python",
   "nbconvert_exporter": "python",
   "pygments_lexer": "ipython3",
   "version": "3.5.5"
  },
  "varInspector": {
   "cols": {
    "lenName": 16,
    "lenType": 16,
    "lenVar": 40
   },
   "kernels_config": {
    "python": {
     "delete_cmd_postfix": "",
     "delete_cmd_prefix": "del ",
     "library": "var_list.py",
     "varRefreshCmd": "print(var_dic_list())"
    },
    "r": {
     "delete_cmd_postfix": ") ",
     "delete_cmd_prefix": "rm(",
     "library": "var_list.r",
     "varRefreshCmd": "cat(var_dic_list()) "
    }
   },
   "types_to_exclude": [
    "module",
    "function",
    "builtin_function_or_method",
    "instance",
    "_Feature"
   ],
   "window_display": false
  }
 },
 "nbformat": 4,
 "nbformat_minor": 2
}
